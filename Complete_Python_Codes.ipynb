{
  "nbformat": 4,
  "nbformat_minor": 0,
  "metadata": {
    "colab": {
      "name": "Complete Python Codes.ipynb",
      "private_outputs": true,
      "provenance": [],
      "collapsed_sections": [],
      "authorship_tag": "ABX9TyN17F/hiL3BHzJq28NUvmfe",
      "include_colab_link": true
    },
    "kernelspec": {
      "name": "python3",
      "display_name": "Python 3"
    },
    "language_info": {
      "name": "python"
    }
  },
  "cells": [
    {
      "cell_type": "markdown",
      "metadata": {
        "id": "view-in-github",
        "colab_type": "text"
      },
      "source": [
        "<a href=\"https://colab.research.google.com/github/harshalDharpure/Complete-Python_codes/blob/main/Complete_Python_Codes.ipynb\" target=\"_parent\"><img src=\"https://colab.research.google.com/assets/colab-badge.svg\" alt=\"Open In Colab\"/></a>"
      ]
    },
    {
      "cell_type": "code",
      "execution_count": null,
      "metadata": {
        "id": "p95GAFe9ikVd"
      },
      "outputs": [],
      "source": [
        "print(\"Complete Python Codes\")"
      ]
    },
    {
      "cell_type": "code",
      "source": [
        "#Indentation Error\n",
        "if 5>2:\n",
        "  print(\"Five is Greater that two\")"
      ],
      "metadata": {
        "id": "qL7XFRC7jWuX"
      },
      "execution_count": null,
      "outputs": []
    },
    {
      "cell_type": "code",
      "source": [
        "x=5\n",
        "y=\"harshal\"\n",
        "print(x)"
      ],
      "metadata": {
        "id": "y4Qzc_QEkUDm"
      },
      "execution_count": null,
      "outputs": []
    },
    {
      "cell_type": "code",
      "source": [
        "print(y)"
      ],
      "metadata": {
        "id": "xLDMurM3kdu_"
      },
      "execution_count": null,
      "outputs": []
    },
    {
      "cell_type": "code",
      "source": [
        "##this is comment\n",
        "#print(\"Hello WORLD\")"
      ],
      "metadata": {
        "id": "83izWtiOkes7"
      },
      "execution_count": null,
      "outputs": []
    },
    {
      "cell_type": "code",
      "source": [
        "#Type Casting \n",
        "x=str(123)\n",
        "print(x)"
      ],
      "metadata": {
        "id": "MZ9oohfdl3Ng"
      },
      "execution_count": null,
      "outputs": []
    },
    {
      "cell_type": "code",
      "source": [
        "x=float(3)\n",
        "print(x)"
      ],
      "metadata": {
        "id": "Ybv08QESmSjD"
      },
      "execution_count": null,
      "outputs": []
    },
    {
      "cell_type": "code",
      "source": [
        "x=\"harshal\"\n",
        "print(type(x))"
      ],
      "metadata": {
        "id": "yRe8IlsNmfty"
      },
      "execution_count": null,
      "outputs": []
    },
    {
      "cell_type": "code",
      "source": [
        "my_variable_name = \"John\"\n",
        "print(my_variable_name)"
      ],
      "metadata": {
        "id": "duri1aQzmpnv"
      },
      "execution_count": null,
      "outputs": []
    },
    {
      "cell_type": "code",
      "source": [
        "x,y,z= \"harsha\",\"preet\",\"shree\"\n",
        "print(x)"
      ],
      "metadata": {
        "id": "5tzLOTSpnJDZ"
      },
      "execution_count": null,
      "outputs": []
    },
    {
      "cell_type": "code",
      "source": [
        "print(x)"
      ],
      "metadata": {
        "id": "DanlwVrKnrKk"
      },
      "execution_count": null,
      "outputs": []
    },
    {
      "cell_type": "code",
      "source": [
        "print(z)"
      ],
      "metadata": {
        "id": "qx8XkS0mpSni"
      },
      "execution_count": null,
      "outputs": []
    },
    {
      "cell_type": "code",
      "source": [
        "print(y)"
      ],
      "metadata": {
        "id": "5eCCaGbwniwu"
      },
      "execution_count": null,
      "outputs": []
    },
    {
      "cell_type": "code",
      "source": [
        "#one value to multiple variables\n",
        "x=y=z=\"orange\"\n",
        "print(x)"
      ],
      "metadata": {
        "id": "-dHNH5Gvpi_o"
      },
      "execution_count": null,
      "outputs": []
    },
    {
      "cell_type": "code",
      "source": [
        "print(y)"
      ],
      "metadata": {
        "id": "T9y76pWzppKm"
      },
      "execution_count": null,
      "outputs": []
    },
    {
      "cell_type": "code",
      "source": [
        "#unpack the collection\n",
        "fruits=[\"apple\",\"orange\",\"mango\"]\n",
        "x,y,z=fruits\n",
        "print(x)"
      ],
      "metadata": {
        "id": "kanJU3HBpqyw"
      },
      "execution_count": null,
      "outputs": []
    },
    {
      "cell_type": "code",
      "source": [
        "print(y)"
      ],
      "metadata": {
        "id": "QyyUSbuCp7M-"
      },
      "execution_count": null,
      "outputs": []
    },
    {
      "cell_type": "code",
      "source": [
        "print(z)"
      ],
      "metadata": {
        "id": "4nxz9ZCtp819"
      },
      "execution_count": null,
      "outputs": []
    },
    {
      "cell_type": "code",
      "source": [
        "#print function output variables\n",
        "x=\"harshal\"\n",
        "y=\"shree\"\n",
        "z=\"friends\"\n",
        "print(x,y,z)"
      ],
      "metadata": {
        "id": "aPmC9tNCp_lo"
      },
      "execution_count": null,
      "outputs": []
    },
    {
      "cell_type": "code",
      "source": [
        "x=\"harshal\"\n",
        "y=\"shree\"\n",
        "z=\"friends\"\n",
        "print(x +y+z)"
      ],
      "metadata": {
        "id": "zS3y23qeqUPS"
      },
      "execution_count": null,
      "outputs": []
    },
    {
      "cell_type": "code",
      "source": [
        "#global variables\n",
        "x=\"harshal & shree\"\n",
        "\n",
        "def myfun():\n",
        "  print(\"Good People \"+x)\n",
        "\n",
        "myfun()\n"
      ],
      "metadata": {
        "id": "ku87jKJkquOR"
      },
      "execution_count": null,
      "outputs": []
    },
    {
      "cell_type": "code",
      "source": [
        "##Global Keyword\n",
        "def myfun():\n",
        "  global x\n",
        "  x=\"harsha\"\n",
        "\n",
        "myfun()\n",
        "\n",
        "print(\"python is  a\"+x)"
      ],
      "metadata": {
        "id": "4NT_j91AsLry"
      },
      "execution_count": null,
      "outputs": []
    },
    {
      "cell_type": "code",
      "source": [
        "## Assigning a Global Keyword\n",
        "x= \"awesome\"\n",
        "\n",
        "def myfun():\n",
        "  global x\n",
        "  x=\"harshal\"\n",
        "\n",
        "myfun()\n",
        "\n",
        "print(\"python is a \"+x)"
      ],
      "metadata": {
        "id": "C0wk-hPZ2M2S"
      },
      "execution_count": null,
      "outputs": []
    },
    {
      "cell_type": "code",
      "source": [
        "x=b\"harshal\"\n",
        "print(x)"
      ],
      "metadata": {
        "id": "rB9MXZ2R2ruR"
      },
      "execution_count": null,
      "outputs": []
    },
    {
      "cell_type": "code",
      "source": [
        "x={\"name\":\"John\",\"age\":30}\n",
        "print(x)"
      ],
      "metadata": {
        "id": "qLAbjmjt3Si9"
      },
      "execution_count": null,
      "outputs": []
    },
    {
      "cell_type": "code",
      "source": [
        "x=-32653\n",
        "print(type(x))"
      ],
      "metadata": {
        "id": "-bK1Q8WY3p4a"
      },
      "execution_count": null,
      "outputs": []
    },
    {
      "cell_type": "code",
      "source": [
        "x=35e3\n",
        "print(type(x))"
      ],
      "metadata": {
        "id": "ZVyN4T4J3__X"
      },
      "execution_count": null,
      "outputs": []
    },
    {
      "cell_type": "code",
      "source": [
        "y=12E4\n",
        "print(type(y))"
      ],
      "metadata": {
        "id": "e5Y3TWHH4xBg"
      },
      "execution_count": null,
      "outputs": []
    },
    {
      "cell_type": "code",
      "source": [
        "##Type Conversion in Python\n",
        "\n",
        "x=1\n",
        "a=float(x)"
      ],
      "metadata": {
        "id": "XLYhMulr45ou"
      },
      "execution_count": null,
      "outputs": []
    },
    {
      "cell_type": "code",
      "source": [
        "print(a)"
      ],
      "metadata": {
        "id": "DTbqdse85Cku"
      },
      "execution_count": null,
      "outputs": []
    },
    {
      "cell_type": "code",
      "source": [
        "y=2.0\n",
        "b=int(y)\n",
        "print(b)"
      ],
      "metadata": {
        "id": "mU1OJGCR5EqL"
      },
      "execution_count": null,
      "outputs": []
    },
    {
      "cell_type": "code",
      "source": [
        "##Generating the Random Integer\n",
        "import random\n",
        "print(random.randrange(1,100))"
      ],
      "metadata": {
        "id": "KzAiHm6Z5XUN"
      },
      "execution_count": null,
      "outputs": []
    },
    {
      "cell_type": "markdown",
      "source": [
        "###Python Strings"
      ],
      "metadata": {
        "id": "zkR1SoEl7JtE"
      }
    },
    {
      "cell_type": "code",
      "source": [
        "print(\"Hello World\")"
      ],
      "metadata": {
        "id": "tay29VWo7Lw5"
      },
      "execution_count": null,
      "outputs": []
    },
    {
      "cell_type": "code",
      "source": [
        "a=\"\"\" This is harshal dharpure My professional \n",
        "elective subject is Natural Language Processing.\n",
        "It is Widely used in the Industry\n",
        "\"\"\"\n",
        "print(a)"
      ],
      "metadata": {
        "id": "2XbIDZJ06EiZ"
      },
      "execution_count": null,
      "outputs": []
    },
    {
      "cell_type": "code",
      "source": [
        "a=\"hello string in Python\"\n",
        "print(a[1])"
      ],
      "metadata": {
        "id": "6NmMuRiq7Eng"
      },
      "execution_count": null,
      "outputs": []
    },
    {
      "cell_type": "code",
      "source": [
        "print(a[2])"
      ],
      "metadata": {
        "id": "yfqAnoHm7aQf"
      },
      "execution_count": null,
      "outputs": []
    },
    {
      "cell_type": "code",
      "source": [
        "#Looping Through a String\n",
        "for x in \"banana\":\n",
        "  print(x)"
      ],
      "metadata": {
        "id": "sTW9uGnF7jCN"
      },
      "execution_count": null,
      "outputs": []
    },
    {
      "cell_type": "code",
      "source": [
        "for x in \"apple\":\n",
        "  print(x)"
      ],
      "metadata": {
        "id": "KFvrZtrL76_Z"
      },
      "execution_count": null,
      "outputs": []
    },
    {
      "cell_type": "code",
      "source": [
        "for v in (1,10):\n",
        "  print(v)"
      ],
      "metadata": {
        "id": "7l6TVj348P0D"
      },
      "execution_count": null,
      "outputs": []
    },
    {
      "cell_type": "code",
      "source": [
        "##String Length\n",
        "a=\"Hello world\"\n",
        "print(len(a))"
      ],
      "metadata": {
        "id": "Yahhi4GO8WN_"
      },
      "execution_count": null,
      "outputs": []
    },
    {
      "cell_type": "code",
      "source": [
        "##Check String in the text\n",
        "txt=\"The best things about me is to manage the Time very well\"\n",
        "print(\"Time\" in txt)"
      ],
      "metadata": {
        "id": "jebrFveN8myL"
      },
      "execution_count": null,
      "outputs": []
    },
    {
      "cell_type": "code",
      "source": [
        "txt=\"I am Cool Boy with the perfect attitude \"\n",
        "if \"perfect\" in txt:\n",
        "  print(\"Yes, 'free' is Present\")"
      ],
      "metadata": {
        "id": "CoevYNC083nA"
      },
      "execution_count": null,
      "outputs": []
    },
    {
      "cell_type": "code",
      "source": [
        "##Check if Not\n",
        "txt=\"The best things in Life are Free\"\n",
        "print(\"best\" not in txt)"
      ],
      "metadata": {
        "id": "vsliqbrl9Z1f"
      },
      "execution_count": null,
      "outputs": []
    },
    {
      "cell_type": "code",
      "source": [
        "txt=\"Harshal is a creative boy with the Mind Blowing idea\"\n",
        "if \"Harshall\" not in txt:\n",
        "  print(\"Yes Harshal is present\")"
      ],
      "metadata": {
        "id": "kpe0gSzK9yNs"
      },
      "execution_count": null,
      "outputs": []
    },
    {
      "cell_type": "markdown",
      "source": [
        "###Python String Slicing"
      ],
      "metadata": {
        "id": "0S1m3Jak-meU"
      }
    },
    {
      "cell_type": "code",
      "source": [
        "b=\"Hello World !\"\n",
        "print(b[2:5])"
      ],
      "metadata": {
        "id": "iDZpImOO-pl6"
      },
      "execution_count": null,
      "outputs": []
    },
    {
      "cell_type": "code",
      "source": [
        "print(b[:5])"
      ],
      "metadata": {
        "id": "n-2KR-tT-0a1"
      },
      "execution_count": null,
      "outputs": []
    },
    {
      "cell_type": "code",
      "source": [
        "#start from the end\n",
        "print(b[2:])"
      ],
      "metadata": {
        "id": "w0hBTZ0j_I38"
      },
      "execution_count": null,
      "outputs": []
    },
    {
      "cell_type": "code",
      "source": [
        "##Negative Indexing\n",
        "b=\"Hello ,World\"\n",
        "print(b[-5:-2])"
      ],
      "metadata": {
        "id": "-_Hcvbhb_V8l"
      },
      "execution_count": null,
      "outputs": []
    },
    {
      "cell_type": "markdown",
      "source": [
        "###Python Modifying String"
      ],
      "metadata": {
        "id": "Pos-R3SNAJRK"
      }
    },
    {
      "cell_type": "code",
      "source": [
        "##Upper Case\n",
        "a=\"Harshal Dharpure\"\n",
        "print(a.upper())"
      ],
      "metadata": {
        "id": "8DB-cDxUANZ_"
      },
      "execution_count": null,
      "outputs": []
    },
    {
      "cell_type": "code",
      "source": [
        "x=\"hasrhal Dharpure\"\n",
        "print(x.upper())"
      ],
      "metadata": {
        "id": "8XBCNY2yAZQ3"
      },
      "execution_count": null,
      "outputs": []
    },
    {
      "cell_type": "code",
      "source": [
        "print(x.lower())"
      ],
      "metadata": {
        "id": "NBjWFb5ZAfPo"
      },
      "execution_count": null,
      "outputs": []
    },
    {
      "cell_type": "code",
      "source": [
        "print(x.strip())"
      ],
      "metadata": {
        "id": "cZruhEpsAhYv"
      },
      "execution_count": null,
      "outputs": []
    },
    {
      "cell_type": "code",
      "source": [
        "##Removing the White Spaces\n",
        "a=\"   Harsbaksb mdllfdf  \"\n",
        "print(a.strip())"
      ],
      "metadata": {
        "id": "4iyo9H-2Amtw"
      },
      "execution_count": null,
      "outputs": []
    },
    {
      "cell_type": "code",
      "source": [
        "a=\"harshal and shree\"\n",
        "print(a.replace(\"harshal\",\"Aniket\"))"
      ],
      "metadata": {
        "id": "1KboDL-MAysO"
      },
      "execution_count": null,
      "outputs": []
    },
    {
      "cell_type": "code",
      "source": [
        "##split the string\n",
        "a=\"harshal, Dharpure\"\n",
        "print(a.split(\",\"))"
      ],
      "metadata": {
        "id": "vhA_2RLmBACT"
      },
      "execution_count": null,
      "outputs": []
    },
    {
      "cell_type": "code",
      "source": [
        "a=\"harshal dharpure\"\n",
        "print(a.capitalize())"
      ],
      "metadata": {
        "id": "Ws3dSbhTBiT0"
      },
      "execution_count": null,
      "outputs": []
    },
    {
      "cell_type": "code",
      "source": [
        "print(a.casefold())"
      ],
      "metadata": {
        "id": "US2P-5m7B1NY"
      },
      "execution_count": null,
      "outputs": []
    },
    {
      "cell_type": "code",
      "source": [
        "txt=\"banana\"\n",
        "x=txt.center(20)\n",
        "print(x)"
      ],
      "metadata": {
        "id": "DI-tt2dHB3_7"
      },
      "execution_count": null,
      "outputs": []
    },
    {
      "cell_type": "code",
      "source": [
        "##String Concatenation\n",
        "a=\"Hello\"\n",
        "b=\"White\"\n",
        "print(a+b)\n",
        "c=a+b\n",
        "print(c)"
      ],
      "metadata": {
        "id": "0AXNmIglFAiv"
      },
      "execution_count": null,
      "outputs": []
    },
    {
      "cell_type": "code",
      "source": [
        "print(a+\" \"+b)"
      ],
      "metadata": {
        "id": "fOmI4FeNHaz5"
      },
      "execution_count": null,
      "outputs": []
    },
    {
      "cell_type": "code",
      "source": [
        "##Python Format String\n",
        "age=36\n",
        "txt=\"My name is Jhon, and I am {}\"\n",
        "print(txt.format(age))"
      ],
      "metadata": {
        "id": "DSr6tD16HurV"
      },
      "execution_count": null,
      "outputs": []
    },
    {
      "cell_type": "code",
      "source": [
        "quantity = 3\n",
        "itemno = 567\n",
        "price = 49.95\n",
        "myorder = \"I want to pay {2} dollars for {0} pieces of item {1}.\"\n",
        "print(myorder.format(quantity, itemno, price))"
      ],
      "metadata": {
        "id": "UJSmcWmyJ05K"
      },
      "execution_count": null,
      "outputs": []
    },
    {
      "cell_type": "code",
      "source": [
        "txt = \"We are the so-called \\\"Vikings\\\" from the north.\""
      ],
      "metadata": {
        "id": "Qpbd2sf_KlEp"
      },
      "execution_count": null,
      "outputs": []
    },
    {
      "cell_type": "code",
      "source": [
        "x=\"harshal\"\n",
        "print(len(x))"
      ],
      "metadata": {
        "id": "84PLb0ZjKhae"
      },
      "execution_count": null,
      "outputs": []
    },
    {
      "cell_type": "code",
      "source": [
        ""
      ],
      "metadata": {
        "id": "V3nn2p4BOUls"
      },
      "execution_count": null,
      "outputs": []
    },
    {
      "cell_type": "code",
      "source": [
        ""
      ],
      "metadata": {
        "id": "Mt64AuTnORmY"
      },
      "execution_count": null,
      "outputs": []
    },
    {
      "cell_type": "code",
      "source": [
        ""
      ],
      "metadata": {
        "id": "_WHpUZwqHWP3"
      },
      "execution_count": null,
      "outputs": []
    },
    {
      "cell_type": "code",
      "source": [
        ""
      ],
      "metadata": {
        "id": "JxIIipG1CFJ9"
      },
      "execution_count": null,
      "outputs": []
    },
    {
      "cell_type": "code",
      "source": [
        ""
      ],
      "metadata": {
        "id": "u-wimelNEP2b"
      },
      "execution_count": null,
      "outputs": []
    },
    {
      "cell_type": "code",
      "source": [
        ""
      ],
      "metadata": {
        "id": "73-92dIUA7zV"
      },
      "execution_count": null,
      "outputs": []
    },
    {
      "cell_type": "code",
      "source": [
        ""
      ],
      "metadata": {
        "id": "kB45WJtG_60o"
      },
      "execution_count": null,
      "outputs": []
    },
    {
      "cell_type": "code",
      "source": [
        ""
      ],
      "metadata": {
        "id": "s3j0BhBU_USB"
      },
      "execution_count": null,
      "outputs": []
    },
    {
      "cell_type": "code",
      "source": [
        ""
      ],
      "metadata": {
        "id": "Oknr5O4Y_H0P"
      },
      "execution_count": null,
      "outputs": []
    },
    {
      "cell_type": "code",
      "source": [
        ""
      ],
      "metadata": {
        "id": "6hZZxhyz_GZU"
      },
      "execution_count": null,
      "outputs": []
    },
    {
      "cell_type": "code",
      "source": [
        ""
      ],
      "metadata": {
        "id": "BWsaYfgq_BDN"
      },
      "execution_count": null,
      "outputs": []
    },
    {
      "cell_type": "code",
      "source": [
        ""
      ],
      "metadata": {
        "id": "ZVeVVhGi-9rt"
      },
      "execution_count": null,
      "outputs": []
    },
    {
      "cell_type": "code",
      "source": [
        ""
      ],
      "metadata": {
        "id": "g4f0u09R-8V_"
      },
      "execution_count": null,
      "outputs": []
    },
    {
      "cell_type": "code",
      "source": [
        ""
      ],
      "metadata": {
        "id": "ebXascFU-7Jh"
      },
      "execution_count": null,
      "outputs": []
    },
    {
      "cell_type": "code",
      "source": [
        ""
      ],
      "metadata": {
        "id": "ynIY9Vek-wxX"
      },
      "execution_count": null,
      "outputs": []
    },
    {
      "cell_type": "code",
      "source": [
        "###"
      ],
      "metadata": {
        "id": "WYOLW0Ba-i02"
      },
      "execution_count": null,
      "outputs": []
    },
    {
      "cell_type": "code",
      "source": [
        ""
      ],
      "metadata": {
        "id": "gS20SfMC-f_R"
      },
      "execution_count": null,
      "outputs": []
    },
    {
      "cell_type": "code",
      "source": [
        ""
      ],
      "metadata": {
        "id": "1xLAPK5M-bU9"
      },
      "execution_count": null,
      "outputs": []
    },
    {
      "cell_type": "code",
      "source": [
        ""
      ],
      "metadata": {
        "id": "VF-cAWU2-ab9"
      },
      "execution_count": null,
      "outputs": []
    },
    {
      "cell_type": "code",
      "source": [
        ""
      ],
      "metadata": {
        "id": "hq_C1crn-Xj5"
      },
      "execution_count": null,
      "outputs": []
    },
    {
      "cell_type": "code",
      "source": [
        ""
      ],
      "metadata": {
        "id": "rvu6cKdQ-Q7H"
      },
      "execution_count": null,
      "outputs": []
    },
    {
      "cell_type": "code",
      "source": [
        ""
      ],
      "metadata": {
        "id": "NUYxlJ7k9Wxc"
      },
      "execution_count": null,
      "outputs": []
    },
    {
      "cell_type": "code",
      "source": [
        ""
      ],
      "metadata": {
        "id": "eyXEIKpk9Quj"
      },
      "execution_count": null,
      "outputs": []
    },
    {
      "cell_type": "code",
      "source": [
        ""
      ],
      "metadata": {
        "id": "EUcDmfe-81uk"
      },
      "execution_count": null,
      "outputs": []
    },
    {
      "cell_type": "code",
      "source": [
        "\n"
      ],
      "metadata": {
        "id": "in-wJj6N50bq"
      },
      "execution_count": null,
      "outputs": []
    },
    {
      "cell_type": "code",
      "source": [
        ""
      ],
      "metadata": {
        "id": "OWYIwMe767xc"
      },
      "execution_count": null,
      "outputs": []
    },
    {
      "cell_type": "code",
      "source": [
        ""
      ],
      "metadata": {
        "id": "uZuCTwpn5nHK"
      },
      "execution_count": null,
      "outputs": []
    },
    {
      "cell_type": "code",
      "source": [
        ""
      ],
      "metadata": {
        "id": "I33I7MRe5g58"
      },
      "execution_count": null,
      "outputs": []
    },
    {
      "cell_type": "code",
      "source": [
        ""
      ],
      "metadata": {
        "id": "73QEFP-u5U_A"
      },
      "execution_count": null,
      "outputs": []
    },
    {
      "cell_type": "code",
      "source": [
        ""
      ],
      "metadata": {
        "id": "Z1dcPRIh2o7f"
      },
      "execution_count": null,
      "outputs": []
    },
    {
      "cell_type": "code",
      "source": [
        ""
      ],
      "metadata": {
        "id": "7x2seeMi2FNF"
      },
      "execution_count": null,
      "outputs": []
    },
    {
      "cell_type": "code",
      "source": [
        ""
      ],
      "metadata": {
        "id": "mr8V8J6wtMzr"
      },
      "execution_count": null,
      "outputs": []
    },
    {
      "cell_type": "code",
      "source": [
        ""
      ],
      "metadata": {
        "id": "MRGR_We2sV8r"
      },
      "execution_count": null,
      "outputs": []
    },
    {
      "cell_type": "code",
      "source": [
        ""
      ],
      "metadata": {
        "id": "uRnXAnCCsH-W"
      },
      "execution_count": null,
      "outputs": []
    },
    {
      "cell_type": "code",
      "source": [
        ""
      ],
      "metadata": {
        "id": "0jt8oK8zqra2"
      },
      "execution_count": null,
      "outputs": []
    }
  ]
}